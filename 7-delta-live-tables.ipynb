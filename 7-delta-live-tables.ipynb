{
 "cells": [
  {
   "cell_type": "markdown",
   "metadata": {
    "application/vnd.databricks.v1+cell": {
     "cellMetadata": {},
     "inputWidgets": {},
     "nuid": "e8c0e25f-c0d8-4dc3-a82a-12543061a613",
     "showTitle": false,
     "tableResultSettingsMap": {},
     "title": ""
    }
   },
   "source": [
    "### DLT Notebook - GOLD LAYER"
   ]
  },
  {
   "cell_type": "code",
   "execution_count": 0,
   "metadata": {
    "application/vnd.databricks.v1+cell": {
     "cellMetadata": {
      "byteLimit": 2048000,
      "rowLimit": 10000
     },
     "inputWidgets": {},
     "nuid": "1fa62d65-0e24-4343-916e-faf3a5c4f2d7",
     "showTitle": false,
     "tableResultSettingsMap": {},
     "title": ""
    }
   },
   "outputs": [],
   "source": [
    "import dlt"
   ]
  },
  {
   "cell_type": "code",
   "execution_count": 0,
   "metadata": {
    "application/vnd.databricks.v1+cell": {
     "cellMetadata": {},
     "inputWidgets": {},
     "nuid": "dcaecacc-f353-4074-9e05-e1a656a5a733",
     "showTitle": false,
     "tableResultSettingsMap": {},
     "title": ""
    }
   },
   "outputs": [],
   "source": [
    "looktables_rules = {\n",
    "    \"rule1\" : \"show_id is NOT NULL\",\n",
    "}"
   ]
  },
  {
   "cell_type": "code",
   "execution_count": 0,
   "metadata": {
    "application/vnd.databricks.v1+cell": {
     "cellMetadata": {},
     "inputWidgets": {},
     "nuid": "9754b622-780e-473c-aaaa-dddb607e965f",
     "showTitle": false,
     "tableResultSettingsMap": {},
     "title": ""
    }
   },
   "outputs": [],
   "source": [
    "@dlt.table(\n",
    "       name= \"gold_netflixdirectors\")\n",
    "@dlt.expect_all_or_drop(looktables_rules)\n",
    "def myfunc():\n",
    "     \n",
    "     df = spark.readStream.format('delta') .load(\"abfss://silver@projectnetflixdatalake.dfs.core.windows.net/netflix_directors\")\n",
    "     return df                     \n"
   ]
  },
  {
   "cell_type": "code",
   "execution_count": 0,
   "metadata": {
    "application/vnd.databricks.v1+cell": {
     "cellMetadata": {},
     "inputWidgets": {},
     "nuid": "c6fe7a2b-ceec-4c57-b1e7-da8444faa359",
     "showTitle": false,
     "tableResultSettingsMap": {},
     "title": ""
    }
   },
   "outputs": [],
   "source": [
    "@dlt.table(\n",
    "       name= \"gold_netflixcast\")\n",
    "@dlt.expect_all_or_drop(looktables_rules)\n",
    "def myfunc():\n",
    "     \n",
    "     df = spark.readStream.format('delta').load(\"abfss://silver@projectnetflixdatalake.dfs.core.windows.net/netflix_cast\")\n",
    "     return df "
   ]
  },
  {
   "cell_type": "code",
   "execution_count": 0,
   "metadata": {
    "application/vnd.databricks.v1+cell": {
     "cellMetadata": {},
     "inputWidgets": {},
     "nuid": "5bf4331f-1b12-46a2-8993-c17a50eba3e0",
     "showTitle": false,
     "tableResultSettingsMap": {},
     "title": ""
    }
   },
   "outputs": [],
   "source": [
    "@dlt.table(\n",
    "       name= \"gold_netflixcategory\")\n",
    "@dlt.expect_all_or_drop(looktables_rules)\n",
    "def myfunc():\n",
    "     \n",
    "     df = spark.readStream.format('delta').load(\"abfss://silver@projectnetflixdatalake.dfs.core.windows.net/netflix_category\")\n",
    "     return df "
   ]
  },
  {
   "cell_type": "code",
   "execution_count": 0,
   "metadata": {
    "application/vnd.databricks.v1+cell": {
     "cellMetadata": {},
     "inputWidgets": {},
     "nuid": "f8fe2dd9-13fa-40ed-a823-c0a4cda94443",
     "showTitle": false,
     "tableResultSettingsMap": {},
     "title": ""
    }
   },
   "outputs": [],
   "source": [
    "@dlt.table\n",
    "@dlt.expect_all_or_drop(looktables_rules)\n",
    "def gold_netflixcountries():\n",
    "     \n",
    "     df = spark.readStream.format('delta').load(\"abfss://silver@projectnetflixdatalake.dfs.core.windows.net/netflix_countries\")\n",
    "     return df "
   ]
  },
  {
   "cell_type": "code",
   "execution_count": 0,
   "metadata": {
    "application/vnd.databricks.v1+cell": {
     "cellMetadata": {},
     "inputWidgets": {},
     "nuid": "7e9de94a-c574-42bd-aa8f-cc95c757a43d",
     "showTitle": false,
     "tableResultSettingsMap": {},
     "title": ""
    }
   },
   "outputs": [],
   "source": [
    "@dlt.table\n",
    "@dlt.expect_or_drop(\"rule1\",\"show_id is NOT NULL\")\n",
    "def gold_netflixtitles():\n",
    "\n",
    "    df = spark.readStream.format('delta').load(\"abfss://silver@projectnetflixdatalake.dfs.core.windows.net/netflix_titles\") \n",
    "    return df"
   ]
  }
 ],
 "metadata": {
  "application/vnd.databricks.v1+notebook": {
   "computePreferences": null,
   "dashboards": [],
   "environmentMetadata": {
    "base_environment": "",
    "environment_version": "2"
   },
   "language": "python",
   "notebookMetadata": {
    "pythonIndentUnit": 4
   },
   "notebookName": "7_DLT_notebook",
   "widgets": {}
  },
  "language_info": {
   "name": "python"
  }
 },
 "nbformat": 4,
 "nbformat_minor": 0
}